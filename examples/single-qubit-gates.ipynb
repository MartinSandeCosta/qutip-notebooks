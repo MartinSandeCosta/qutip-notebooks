{
 "cells": [
  {
   "cell_type": "markdown",
   "metadata": {},
   "source": [
    "# QuTiP single qubit operations"
   ]
  },
  {
   "cell_type": "markdown",
   "metadata": {},
   "source": [
    "This notebook serves as a quick check for the single qubit implementation on https://github.com/qutip/qutip/pull/1212"
   ]
  },
  {
   "cell_type": "code",
   "execution_count": 31,
   "metadata": {},
   "outputs": [],
   "source": [
    "from qutip.qip.operations.gates import *"
   ]
  },
  {
   "cell_type": "markdown",
   "metadata": {},
   "source": [
    "With this we can define the new X, Y, Z, S and T. As well as their controlled counterparts: CY, CZ, CS, CT.\n",
    "\n",
    "The controlled X (aka CNOT) is already implemented so it is not taken into account in further sections."
   ]
  },
  {
   "cell_type": "code",
   "execution_count": 32,
   "metadata": {},
   "outputs": [
    {
     "data": {
      "text/latex": [
       "Quantum object: dims = [[2], [2]], shape = (2, 2), type = oper, isherm = True\\begin{equation*}\\left(\\begin{array}{*{11}c}0.0 & 1.0\\\\1.0 & 0.0\\\\\\end{array}\\right)\\end{equation*}"
      ],
      "text/plain": [
       "Quantum object: dims = [[2], [2]], shape = (2, 2), type = oper, isherm = True\n",
       "Qobj data =\n",
       "[[0. 1.]\n",
       " [1. 0.]]"
      ]
     },
     "execution_count": 32,
     "metadata": {},
     "output_type": "execute_result"
    }
   ],
   "source": [
    "x_gate()"
   ]
  },
  {
   "cell_type": "code",
   "execution_count": 33,
   "metadata": {},
   "outputs": [
    {
     "data": {
      "text/latex": [
       "Quantum object: dims = [[2], [2]], shape = (2, 2), type = oper, isherm = True\\begin{equation*}\\left(\\begin{array}{*{11}c}0.0 & -1.0j\\\\1.0j & 0.0\\\\\\end{array}\\right)\\end{equation*}"
      ],
      "text/plain": [
       "Quantum object: dims = [[2], [2]], shape = (2, 2), type = oper, isherm = True\n",
       "Qobj data =\n",
       "[[0.+0.j 0.-1.j]\n",
       " [0.+1.j 0.+0.j]]"
      ]
     },
     "execution_count": 33,
     "metadata": {},
     "output_type": "execute_result"
    }
   ],
   "source": [
    "y_gate()"
   ]
  },
  {
   "cell_type": "code",
   "execution_count": 34,
   "metadata": {},
   "outputs": [
    {
     "data": {
      "text/latex": [
       "Quantum object: dims = [[2, 2], [2, 2]], shape = (4, 4), type = oper, isherm = True\\begin{equation*}\\left(\\begin{array}{*{11}c}1.0 & 0.0 & 0.0 & 0.0\\\\0.0 & 1.0 & 0.0 & 0.0\\\\0.0 & 0.0 & 0.0 & -1.0j\\\\0.0 & 0.0 & 1.0j & 0.0\\\\\\end{array}\\right)\\end{equation*}"
      ],
      "text/plain": [
       "Quantum object: dims = [[2, 2], [2, 2]], shape = (4, 4), type = oper, isherm = True\n",
       "Qobj data =\n",
       "[[1.+0.j 0.+0.j 0.+0.j 0.+0.j]\n",
       " [0.+0.j 1.+0.j 0.+0.j 0.+0.j]\n",
       " [0.+0.j 0.+0.j 0.+0.j 0.-1.j]\n",
       " [0.+0.j 0.+0.j 0.+1.j 0.+0.j]]"
      ]
     },
     "execution_count": 34,
     "metadata": {},
     "output_type": "execute_result"
    }
   ],
   "source": [
    "cy_gate()"
   ]
  },
  {
   "cell_type": "code",
   "execution_count": 35,
   "metadata": {},
   "outputs": [
    {
     "data": {
      "text/latex": [
       "Quantum object: dims = [[2], [2]], shape = (2, 2), type = oper, isherm = False\\begin{equation*}\\left(\\begin{array}{*{11}c}1.0 & 0.0\\\\0.0 & -1.0j\\\\\\end{array}\\right)\\end{equation*}"
      ],
      "text/plain": [
       "Quantum object: dims = [[2], [2]], shape = (2, 2), type = oper, isherm = False\n",
       "Qobj data =\n",
       "[[1.+0.j 0.+0.j]\n",
       " [0.+0.j 0.-1.j]]"
      ]
     },
     "execution_count": 35,
     "metadata": {},
     "output_type": "execute_result"
    }
   ],
   "source": [
    "z_gate()"
   ]
  },
  {
   "cell_type": "code",
   "execution_count": 36,
   "metadata": {},
   "outputs": [
    {
     "data": {
      "text/latex": [
       "Quantum object: dims = [[2, 2], [2, 2]], shape = (4, 4), type = oper, isherm = False\\begin{equation*}\\left(\\begin{array}{*{11}c}1.0 & 0.0 & 0.0 & 0.0\\\\0.0 & 1.0 & 0.0 & 0.0\\\\0.0 & 0.0 & 1.0 & 0.0\\\\0.0 & 0.0 & 0.0 & -1.0j\\\\\\end{array}\\right)\\end{equation*}"
      ],
      "text/plain": [
       "Quantum object: dims = [[2, 2], [2, 2]], shape = (4, 4), type = oper, isherm = False\n",
       "Qobj data =\n",
       "[[1.+0.j 0.+0.j 0.+0.j 0.+0.j]\n",
       " [0.+0.j 1.+0.j 0.+0.j 0.+0.j]\n",
       " [0.+0.j 0.+0.j 1.+0.j 0.+0.j]\n",
       " [0.+0.j 0.+0.j 0.+0.j 0.-1.j]]"
      ]
     },
     "execution_count": 36,
     "metadata": {},
     "output_type": "execute_result"
    }
   ],
   "source": [
    "cz_gate()"
   ]
  },
  {
   "cell_type": "code",
   "execution_count": 37,
   "metadata": {},
   "outputs": [
    {
     "data": {
      "text/latex": [
       "Quantum object: dims = [[2], [2]], shape = (2, 2), type = oper, isherm = False\\begin{equation*}\\left(\\begin{array}{*{11}c}1.0 & 0.0\\\\0.0 & 1.0j\\\\\\end{array}\\right)\\end{equation*}"
      ],
      "text/plain": [
       "Quantum object: dims = [[2], [2]], shape = (2, 2), type = oper, isherm = False\n",
       "Qobj data =\n",
       "[[1.+0.j 0.+0.j]\n",
       " [0.+0.j 0.+1.j]]"
      ]
     },
     "execution_count": 37,
     "metadata": {},
     "output_type": "execute_result"
    }
   ],
   "source": [
    "s_gate()"
   ]
  },
  {
   "cell_type": "code",
   "execution_count": 38,
   "metadata": {},
   "outputs": [
    {
     "data": {
      "text/latex": [
       "Quantum object: dims = [[2, 2], [2, 2]], shape = (4, 4), type = oper, isherm = False\\begin{equation*}\\left(\\begin{array}{*{11}c}1.0 & 0.0 & 0.0 & 0.0\\\\0.0 & 1.0 & 0.0 & 0.0\\\\0.0 & 0.0 & 1.0 & 0.0\\\\0.0 & 0.0 & 0.0 & 1.0j\\\\\\end{array}\\right)\\end{equation*}"
      ],
      "text/plain": [
       "Quantum object: dims = [[2, 2], [2, 2]], shape = (4, 4), type = oper, isherm = False\n",
       "Qobj data =\n",
       "[[1.+0.j 0.+0.j 0.+0.j 0.+0.j]\n",
       " [0.+0.j 1.+0.j 0.+0.j 0.+0.j]\n",
       " [0.+0.j 0.+0.j 1.+0.j 0.+0.j]\n",
       " [0.+0.j 0.+0.j 0.+0.j 0.+1.j]]"
      ]
     },
     "execution_count": 38,
     "metadata": {},
     "output_type": "execute_result"
    }
   ],
   "source": [
    "cs_gate()"
   ]
  },
  {
   "cell_type": "code",
   "execution_count": 39,
   "metadata": {},
   "outputs": [
    {
     "data": {
      "text/latex": [
       "Quantum object: dims = [[2], [2]], shape = (2, 2), type = oper, isherm = False\\begin{equation*}\\left(\\begin{array}{*{11}c}1.0 & 0.0\\\\0.0 & (0.707+0.707j)\\\\\\end{array}\\right)\\end{equation*}"
      ],
      "text/plain": [
       "Quantum object: dims = [[2], [2]], shape = (2, 2), type = oper, isherm = False\n",
       "Qobj data =\n",
       "[[1.        +0.j         0.        +0.j        ]\n",
       " [0.        +0.j         0.70710678+0.70710678j]]"
      ]
     },
     "execution_count": 39,
     "metadata": {},
     "output_type": "execute_result"
    }
   ],
   "source": [
    "t_gate()"
   ]
  },
  {
   "cell_type": "code",
   "execution_count": 40,
   "metadata": {},
   "outputs": [
    {
     "data": {
      "text/latex": [
       "Quantum object: dims = [[2, 2], [2, 2]], shape = (4, 4), type = oper, isherm = False\\begin{equation*}\\left(\\begin{array}{*{11}c}1.0 & 0.0 & 0.0 & 0.0\\\\0.0 & 1.0 & 0.0 & 0.0\\\\0.0 & 0.0 & 1.0 & 0.0\\\\0.0 & 0.0 & 0.0 & (0.707+0.707j)\\\\\\end{array}\\right)\\end{equation*}"
      ],
      "text/plain": [
       "Quantum object: dims = [[2, 2], [2, 2]], shape = (4, 4), type = oper, isherm = False\n",
       "Qobj data =\n",
       "[[1.        +0.j         0.        +0.j         0.        +0.j\n",
       "  0.        +0.j        ]\n",
       " [0.        +0.j         1.        +0.j         0.        +0.j\n",
       "  0.        +0.j        ]\n",
       " [0.        +0.j         0.        +0.j         1.        +0.j\n",
       "  0.        +0.j        ]\n",
       " [0.        +0.j         0.        +0.j         0.        +0.j\n",
       "  0.70710678+0.70710678j]]"
      ]
     },
     "execution_count": 40,
     "metadata": {},
     "output_type": "execute_result"
    }
   ],
   "source": [
    "ct_gate()"
   ]
  },
  {
   "cell_type": "markdown",
   "metadata": {},
   "source": [
    "#### The newly defined gates can also be used in quantum circuits as follows:"
   ]
  },
  {
   "cell_type": "code",
   "execution_count": 41,
   "metadata": {},
   "outputs": [],
   "source": [
    "from qutip.qip.circuit import *"
   ]
  },
  {
   "cell_type": "code",
   "execution_count": 42,
   "metadata": {},
   "outputs": [],
   "source": [
    "qc = QubitCircuit(2)"
   ]
  },
  {
   "cell_type": "code",
   "execution_count": 43,
   "metadata": {},
   "outputs": [
    {
     "data": {
      "text/latex": [
       "Gate(X, targets=[0], controls=None)"
      ],
      "text/plain": [
       "Gate(X, targets=[0], controls=None)"
      ]
     },
     "execution_count": 43,
     "metadata": {},
     "output_type": "execute_result"
    }
   ],
   "source": [
    "qc.add_gate(\"X\", targets=[0])\n",
    "qc.gates[0]"
   ]
  },
  {
   "cell_type": "code",
   "execution_count": 44,
   "metadata": {},
   "outputs": [
    {
     "data": {
      "text/latex": [
       "Gate(Y, targets=[0], controls=None)"
      ],
      "text/plain": [
       "Gate(Y, targets=[0], controls=None)"
      ]
     },
     "execution_count": 44,
     "metadata": {},
     "output_type": "execute_result"
    }
   ],
   "source": [
    "qc.add_gate(\"Y\", targets=[0])\n",
    "qc.gates[1]"
   ]
  },
  {
   "cell_type": "code",
   "execution_count": 45,
   "metadata": {},
   "outputs": [
    {
     "data": {
      "text/latex": [
       "Gate(Z, targets=[0], controls=None)"
      ],
      "text/plain": [
       "Gate(Z, targets=[0], controls=None)"
      ]
     },
     "execution_count": 45,
     "metadata": {},
     "output_type": "execute_result"
    }
   ],
   "source": [
    "qc.add_gate(\"Z\", targets=[0])\n",
    "qc.gates[2]"
   ]
  },
  {
   "cell_type": "code",
   "execution_count": 46,
   "metadata": {},
   "outputs": [
    {
     "data": {
      "text/latex": [
       "Gate(S, targets=[0], controls=None)"
      ],
      "text/plain": [
       "Gate(S, targets=[0], controls=None)"
      ]
     },
     "execution_count": 46,
     "metadata": {},
     "output_type": "execute_result"
    }
   ],
   "source": [
    "qc.add_gate(\"S\", targets=[0])\n",
    "qc.gates[3]"
   ]
  },
  {
   "cell_type": "code",
   "execution_count": 47,
   "metadata": {},
   "outputs": [
    {
     "data": {
      "text/latex": [
       "Gate(T, targets=[0], controls=None)"
      ],
      "text/plain": [
       "Gate(T, targets=[0], controls=None)"
      ]
     },
     "execution_count": 47,
     "metadata": {},
     "output_type": "execute_result"
    }
   ],
   "source": [
    "qc.add_gate(\"T\", targets=[0])\n",
    "qc.gates[4]"
   ]
  },
  {
   "cell_type": "markdown",
   "metadata": {},
   "source": [
    "#### The following single qubit gates do not take controls and raise proper errors"
   ]
  },
  {
   "cell_type": "code",
   "execution_count": 48,
   "metadata": {},
   "outputs": [
    {
     "name": "stdout",
     "output_type": "stream",
     "text": [
      "Gate X does not take controls\n",
      "Gate Y does not take controls\n",
      "Gate Z does not take controls\n",
      "Gate S does not take controls\n",
      "Gate T does not take controls\n"
     ]
    }
   ],
   "source": [
    "for gate in [\"X\", \"Y\", \"Z\", \"S\", \"T\"]:\n",
    "    try:\n",
    "        qc.add_gate(gate, targets=[0], controls=[0])\n",
    "    except ValueError:\n",
    "        print(f\"Gate {gate} does not take controls\")"
   ]
  },
  {
   "cell_type": "code",
   "execution_count": 49,
   "metadata": {},
   "outputs": [
    {
     "data": {
      "text/latex": [
       "Gate(CY, targets=[0], controls=[1])"
      ],
      "text/plain": [
       "Gate(CY, targets=[0], controls=[1])"
      ]
     },
     "execution_count": 49,
     "metadata": {},
     "output_type": "execute_result"
    }
   ],
   "source": [
    "qc.add_gate(\"CY\", targets=[0], controls=[1])\n",
    "qc.gates[5]"
   ]
  },
  {
   "cell_type": "code",
   "execution_count": 50,
   "metadata": {},
   "outputs": [
    {
     "data": {
      "text/latex": [
       "Gate(CZ, targets=[0], controls=[1])"
      ],
      "text/plain": [
       "Gate(CZ, targets=[0], controls=[1])"
      ]
     },
     "execution_count": 50,
     "metadata": {},
     "output_type": "execute_result"
    }
   ],
   "source": [
    "qc.add_gate(\"CZ\", targets=[0], controls=[1])\n",
    "qc.gates[6]"
   ]
  },
  {
   "cell_type": "code",
   "execution_count": 51,
   "metadata": {},
   "outputs": [
    {
     "data": {
      "text/latex": [
       "Gate(CS, targets=[0], controls=[1])"
      ],
      "text/plain": [
       "Gate(CS, targets=[0], controls=[1])"
      ]
     },
     "execution_count": 51,
     "metadata": {},
     "output_type": "execute_result"
    }
   ],
   "source": [
    "qc.add_gate(\"CS\", targets=[0], controls=[1])\n",
    "qc.gates[7]"
   ]
  },
  {
   "cell_type": "code",
   "execution_count": 52,
   "metadata": {},
   "outputs": [
    {
     "data": {
      "text/latex": [
       "Gate(CT, targets=[0], controls=[1])"
      ],
      "text/plain": [
       "Gate(CT, targets=[0], controls=[1])"
      ]
     },
     "execution_count": 52,
     "metadata": {},
     "output_type": "execute_result"
    }
   ],
   "source": [
    "qc.add_gate(\"CT\", targets=[0], controls=[1])\n",
    "qc.gates[8]"
   ]
  },
  {
   "cell_type": "markdown",
   "metadata": {},
   "source": [
    "#### The following single qubit gates do not take must take controls"
   ]
  },
  {
   "cell_type": "code",
   "execution_count": 53,
   "metadata": {},
   "outputs": [
    {
     "name": "stdout",
     "output_type": "stream",
     "text": [
      "Gate CY requires one control\n",
      "Gate CZ requires one control\n",
      "Gate CS requires one control\n",
      "Gate CT requires one control\n"
     ]
    }
   ],
   "source": [
    "for gate in [\"CY\", \"CZ\", \"CS\", \"CT\"]:\n",
    "    try:\n",
    "        qc.add_gate(gate, targets=[0])\n",
    "    except ValueError:\n",
    "        print(f\"Gate {gate} requires one control\")"
   ]
  },
  {
   "cell_type": "code",
   "execution_count": 54,
   "metadata": {},
   "outputs": [
    {
     "data": {
      "text/plain": [
       "[Gate(X, targets=[0], controls=None),\n",
       " Gate(Y, targets=[0], controls=None),\n",
       " Gate(Z, targets=[0], controls=None),\n",
       " Gate(S, targets=[0], controls=None),\n",
       " Gate(T, targets=[0], controls=None),\n",
       " Gate(CY, targets=[0], controls=[1]),\n",
       " Gate(CZ, targets=[0], controls=[1]),\n",
       " Gate(CS, targets=[0], controls=[1]),\n",
       " Gate(CT, targets=[0], controls=[1]),\n",
       " Gate(X, targets=[0], controls=None),\n",
       " Gate(X, targets=[1], controls=None)]"
      ]
     },
     "execution_count": 54,
     "metadata": {},
     "output_type": "execute_result"
    }
   ],
   "source": [
    "qc.add_1q_gate(\"X\", qubits=[0,1], arg_label = \"test\")\n",
    "qc.gates[9:11]\n",
    "qc.gates"
   ]
  },
  {
   "cell_type": "code",
   "execution_count": 55,
   "metadata": {},
   "outputs": [
    {
     "data": {
      "text/plain": [
       "[Quantum object: dims = [[2, 2], [2, 2]], shape = (4, 4), type = oper, isherm = True\n",
       " Qobj data =\n",
       " [[0. 0. 1. 0.]\n",
       "  [0. 0. 0. 1.]\n",
       "  [1. 0. 0. 0.]\n",
       "  [0. 1. 0. 0.]],\n",
       " Quantum object: dims = [[2, 2], [2, 2]], shape = (4, 4), type = oper, isherm = True\n",
       " Qobj data =\n",
       " [[0.+0.j 0.+0.j 0.-1.j 0.+0.j]\n",
       "  [0.+0.j 0.+0.j 0.+0.j 0.-1.j]\n",
       "  [0.+1.j 0.+0.j 0.+0.j 0.+0.j]\n",
       "  [0.+0.j 0.+1.j 0.+0.j 0.+0.j]],\n",
       " Quantum object: dims = [[2, 2], [2, 2]], shape = (4, 4), type = oper, isherm = False\n",
       " Qobj data =\n",
       " [[1.+0.j 0.+0.j 0.+0.j 0.+0.j]\n",
       "  [0.+0.j 1.+0.j 0.+0.j 0.+0.j]\n",
       "  [0.+0.j 0.+0.j 0.-1.j 0.+0.j]\n",
       "  [0.+0.j 0.+0.j 0.+0.j 0.-1.j]],\n",
       " Quantum object: dims = [[2, 2], [2, 2]], shape = (4, 4), type = oper, isherm = False\n",
       " Qobj data =\n",
       " [[1.+0.j 0.+0.j 0.+0.j 0.+0.j]\n",
       "  [0.+0.j 1.+0.j 0.+0.j 0.+0.j]\n",
       "  [0.+0.j 0.+0.j 0.+1.j 0.+0.j]\n",
       "  [0.+0.j 0.+0.j 0.+0.j 0.+1.j]],\n",
       " Quantum object: dims = [[2, 2], [2, 2]], shape = (4, 4), type = oper, isherm = False\n",
       " Qobj data =\n",
       " [[1.        +0.j         0.        +0.j         0.        +0.j\n",
       "   0.        +0.j        ]\n",
       "  [0.        +0.j         1.        +0.j         0.        +0.j\n",
       "   0.        +0.j        ]\n",
       "  [0.        +0.j         0.        +0.j         0.70710678+0.70710678j\n",
       "   0.        +0.j        ]\n",
       "  [0.        +0.j         0.        +0.j         0.        +0.j\n",
       "   0.70710678+0.70710678j]],\n",
       " Quantum object: dims = [[2, 2], [2, 2]], shape = (4, 4), type = oper, isherm = True\n",
       " Qobj data =\n",
       " [[1.+0.j 0.+0.j 0.+0.j 0.+0.j]\n",
       "  [0.+0.j 0.+0.j 0.+0.j 0.-1.j]\n",
       "  [0.+0.j 0.+0.j 1.+0.j 0.+0.j]\n",
       "  [0.+0.j 0.+1.j 0.+0.j 0.+0.j]],\n",
       " Quantum object: dims = [[2, 2], [2, 2]], shape = (4, 4), type = oper, isherm = False\n",
       " Qobj data =\n",
       " [[1.+0.j 0.+0.j 0.+0.j 0.+0.j]\n",
       "  [0.+0.j 1.+0.j 0.+0.j 0.+0.j]\n",
       "  [0.+0.j 0.+0.j 1.+0.j 0.+0.j]\n",
       "  [0.+0.j 0.+0.j 0.+0.j 0.-1.j]],\n",
       " Quantum object: dims = [[2, 2], [2, 2]], shape = (4, 4), type = oper, isherm = False\n",
       " Qobj data =\n",
       " [[1.+0.j 0.+0.j 0.+0.j 0.+0.j]\n",
       "  [0.+0.j 1.+0.j 0.+0.j 0.+0.j]\n",
       "  [0.+0.j 0.+0.j 1.+0.j 0.+0.j]\n",
       "  [0.+0.j 0.+0.j 0.+0.j 0.+1.j]],\n",
       " Quantum object: dims = [[2, 2], [2, 2]], shape = (4, 4), type = oper, isherm = False\n",
       " Qobj data =\n",
       " [[1.        +0.j         0.        +0.j         0.        +0.j\n",
       "   0.        +0.j        ]\n",
       "  [0.        +0.j         1.        +0.j         0.        +0.j\n",
       "   0.        +0.j        ]\n",
       "  [0.        +0.j         0.        +0.j         1.        +0.j\n",
       "   0.        +0.j        ]\n",
       "  [0.        +0.j         0.        +0.j         0.        +0.j\n",
       "   0.70710678+0.70710678j]],\n",
       " Quantum object: dims = [[2, 2], [2, 2]], shape = (4, 4), type = oper, isherm = True\n",
       " Qobj data =\n",
       " [[0. 0. 1. 0.]\n",
       "  [0. 0. 0. 1.]\n",
       "  [1. 0. 0. 0.]\n",
       "  [0. 1. 0. 0.]],\n",
       " Quantum object: dims = [[2, 2], [2, 2]], shape = (4, 4), type = oper, isherm = True\n",
       " Qobj data =\n",
       " [[0. 1. 0. 0.]\n",
       "  [1. 0. 0. 0.]\n",
       "  [0. 0. 0. 1.]\n",
       "  [0. 0. 1. 0.]]]"
      ]
     },
     "execution_count": 55,
     "metadata": {},
     "output_type": "execute_result"
    }
   ],
   "source": [
    "props = qc.propagators()\n",
    "props"
   ]
  },
  {
   "cell_type": "code",
   "execution_count": 56,
   "metadata": {},
   "outputs": [
    {
     "data": {
      "text/latex": [
       "Quantum object: dims = [[2, 2], [2, 2]], shape = (4, 4), type = oper, isherm = False\\begin{equation*}\\left(\\begin{array}{*{11}c}0.0 & (0.707+0.707j) & 0.0 & 0.0\\\\0.0 & 0.0 & (-0.707+0.707j) & 0.0\\\\0.0 & 0.0 & 0.0 & (0.707+0.707j)\\\\-1.0j & 0.0 & 0.0 & 0.0\\\\\\end{array}\\right)\\end{equation*}"
      ],
      "text/plain": [
       "Quantum object: dims = [[2, 2], [2, 2]], shape = (4, 4), type = oper, isherm = False\n",
       "Qobj data =\n",
       "[[ 0.        +0.j          0.70710678+0.70710678j  0.        +0.j\n",
       "   0.        +0.j        ]\n",
       " [ 0.        +0.j          0.        +0.j         -0.70710678+0.70710678j\n",
       "   0.        +0.j        ]\n",
       " [ 0.        +0.j          0.        +0.j          0.        +0.j\n",
       "   0.70710678+0.70710678j]\n",
       " [ 0.        -1.j          0.        +0.j          0.        +0.j\n",
       "   0.        +0.j        ]]"
      ]
     },
     "execution_count": 56,
     "metadata": {},
     "output_type": "execute_result"
    }
   ],
   "source": [
    "qc2 = qc.resolve_gates()\n",
    "U2 = gate_sequence_product(qc2.propagators())\n",
    "U2"
   ]
  }
 ],
 "metadata": {
  "kernelspec": {
   "display_name": "Python 3",
   "language": "python",
   "name": "python3"
  },
  "language_info": {
   "codemirror_mode": {
    "name": "ipython",
    "version": 3
   },
   "file_extension": ".py",
   "mimetype": "text/x-python",
   "name": "python",
   "nbconvert_exporter": "python",
   "pygments_lexer": "ipython3",
   "version": "3.7.4"
  }
 },
 "nbformat": 4,
 "nbformat_minor": 2
}
